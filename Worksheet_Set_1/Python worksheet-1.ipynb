{
 "cells": [
  {
   "cell_type": "code",
   "execution_count": 1,
   "id": "f2a22272",
   "metadata": {},
   "outputs": [
    {
     "name": "stdout",
     "output_type": "stream",
     "text": [
      "Enter a number: 27\n",
      "The factorial of 27 is 10888869450418352160768000000\n"
     ]
    }
   ],
   "source": [
    "#WAP to find the Factorial of a number\n",
    "num = int(input(\"Enter a number: \"))    \n",
    "factorial = 1    \n",
    "if num < 0:    \n",
    "    print(\" Factorial does not exist for negative numbers\")    \n",
    "elif num == 0:    \n",
    "    print(\"The factorial of 0 is 1\")    \n",
    "else:    \n",
    "    for i in range(1,num + 1):    \n",
    "        factorial = factorial*i    \n",
    "    print(\"The factorial of\",num,\"is\",factorial)   "
   ]
  },
  {
   "cell_type": "code",
   "execution_count": 2,
   "id": "bb59761d",
   "metadata": {},
   "outputs": [
    {
     "name": "stdout",
     "output_type": "stream",
     "text": [
      "Enter any number:8456\n",
      "8456 is not prime but composite number\n"
     ]
    }
   ],
   "source": [
    "#WAP to find whether a number is prime or composite\n",
    "n= int(input(\"Enter any number:\"))\n",
    "if(n == 0 or n == 1):\n",
    "    print(n,\"Number is neither prime nor composite\")\n",
    "elif n>1 :\n",
    "    for i in range(2,n):\n",
    "        if(n%i == 0):\n",
    "            print(n,\"is not prime but composite number\")\n",
    "            break\n",
    "    else:\n",
    "        print(n,\"number is prime but not composite number\")\n",
    "else :\n",
    "    print(\"Please enter positive number only \")"
   ]
  },
  {
   "cell_type": "code",
   "execution_count": 3,
   "id": "5d4ae21c",
   "metadata": {},
   "outputs": [
    {
     "name": "stdout",
     "output_type": "stream",
     "text": [
      "Input the data11223344555544332211\n",
      "Yes\n"
     ]
    }
   ],
   "source": [
    "#WAP to check whether a given string is palindrome or not.\n",
    "def isPalindrome(str):\n",
    " \n",
    "    # Run loop from 0 to len/2\n",
    "    for i in range(0, int(len(str)/2)):\n",
    "        if str[i] != str[len(str)-i-1]:\n",
    "            return False\n",
    "    return True\n",
    " \n",
    "# main function\n",
    "s = input(\"Input the data\")\n",
    "ans = isPalindrome(s)\n",
    " \n",
    "if (ans):\n",
    "    print(\"Yes\")\n",
    "else:\n",
    "    print(\"No\")"
   ]
  },
  {
   "cell_type": "code",
   "execution_count": 4,
   "id": "a70c906b",
   "metadata": {},
   "outputs": [
    {
     "name": "stdout",
     "output_type": "stream",
     "text": [
      "Input lengths of shorter triangle sides:\n",
      "AB: 14\n",
      "BC: 12\n",
      "The length of the hypotenuse is: 18.439088914585774\n"
     ]
    }
   ],
   "source": [
    "#WAP to get the third side of right-angled triangle from two given sides.\n",
    "from math import sqrt\n",
    "print(\"Input lengths of shorter triangle sides:\")\n",
    "AB = float(input(\"AB: \"))\n",
    "BC = float(input(\"BC: \"))\n",
    "AC = sqrt(AB**2 + BC**2)\n",
    "print(\"The length of the hypotenuse is:\", AC )"
   ]
  },
  {
   "cell_type": "code",
   "execution_count": 6,
   "id": "f40b6a16",
   "metadata": {},
   "outputs": [
    {
     "name": "stdout",
     "output_type": "stream",
     "text": [
      "Enter the string: My name is Ojasav and I am here to check the frequency of the characters present is a given string\n",
      "Please enter the character to find frequency of the character\n",
      " o\n",
      "The frequency of the o in the string is: 2\n"
     ]
    }
   ],
   "source": [
    "#WAP to print the frequency of each of the characters present in a given string.\n",
    "string=input(\"Enter the string: \")\n",
    "char=input(\"Please enter the character to find frequency of the character\\n \")\n",
    "count=0\n",
    "for i in range(len(string)):\n",
    "    if(string[i]==char):\n",
    "        count=count+1\n",
    "print(\"The frequency of the\",char,\"in the string is:\",count)"
   ]
  },
  {
   "cell_type": "code",
   "execution_count": null,
   "id": "772e1b12",
   "metadata": {},
   "outputs": [],
   "source": []
  },
  {
   "cell_type": "code",
   "execution_count": null,
   "id": "73258c67",
   "metadata": {},
   "outputs": [],
   "source": []
  }
 ],
 "metadata": {
  "kernelspec": {
   "display_name": "Python 3",
   "language": "python",
   "name": "python3"
  },
  "language_info": {
   "codemirror_mode": {
    "name": "ipython",
    "version": 3
   },
   "file_extension": ".py",
   "mimetype": "text/x-python",
   "name": "python",
   "nbconvert_exporter": "python",
   "pygments_lexer": "ipython3",
   "version": "3.8.8"
  }
 },
 "nbformat": 4,
 "nbformat_minor": 5
}
